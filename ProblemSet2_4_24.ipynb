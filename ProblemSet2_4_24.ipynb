{
  "nbformat": 4,
  "nbformat_minor": 0,
  "metadata": {
    "colab": {
      "provenance": [],
      "authorship_tag": "ABX9TyPV14s5YqSR2EgSsxSMUZ9C",
      "include_colab_link": true
    },
    "kernelspec": {
      "name": "python3",
      "display_name": "Python 3"
    },
    "language_info": {
      "name": "python"
    }
  },
  "cells": [
    {
      "cell_type": "markdown",
      "metadata": {
        "id": "view-in-github",
        "colab_type": "text"
      },
      "source": [
        "<a href=\"https://colab.research.google.com/github/paigefel/BTE320/blob/main/ProblemSet2_4_24.ipynb\" target=\"_parent\"><img src=\"https://colab.research.google.com/assets/colab-badge.svg\" alt=\"Open In Colab\"/></a>"
      ]
    },
    {
      "cell_type": "code",
      "execution_count": null,
      "metadata": {
        "id": "8QB3mhu1YVbA"
      },
      "outputs": [],
      "source": [
        "class Point:\n",
        "  def __init__(self, x, y):\n",
        "    self.x = x\n",
        "    self.y = y\n",
        "  def distance(self, other):\n",
        "    x_diff = (self.x - other.x) ** 2\n",
        "    y_diff = (self.y - other.y) ** 2\n",
        "    return (x_diff + y_diff) ** 0.5\n",
        "\n",
        "  class Point3D(Point):\n",
        "    def __init__(self, x, y, z)\n",
        "     super.()__init__(x, y)\n",
        "     self.z = z\n",
        "    def distance(self, other):\n",
        "      x_diff = (self.x - other.x) ** 2\n",
        "      y_diff = (self.y - other.y) ** 2\n",
        "      z_diff = (self.z - other.z) ** 2\n",
        "      return (x_diff + y_diff + z_diff) ** 0.5\n",
        "\n",
        "    p1 = Point(3,4)\n",
        "    p2 = Point(6,8)\n",
        "    print(p1.distance(p2))\n",
        "    p3d_1 = Point3D(3,4,5)\n",
        "    p3d_2 = Point3D(6,8,10)\n",
        "    print(p3d_1.distance(p3d_2))"
      ]
    },
    {
      "cell_type": "code",
      "source": [
        "class Animal:\n",
        "  def __init__(self, legs):\n",
        "    self.legs = legs\n",
        "    print('Animal created')\n",
        "  def whoAmI(self):\n",
        "    print('I am an animal')\n",
        "\n",
        "  class Bird(Animal):\n",
        "    def __init__(self, wings, legs):\n",
        "    super().__init__(legs)\n",
        "    self.wings = wings\n",
        "    print('Bird created')\n",
        "    def fly(self):\n",
        "      print('Birds can fly')\n",
        "\n",
        "    a = Animal(4)\n",
        "    b = Bird(2)\n",
        "    a.fly()"
      ],
      "metadata": {
        "id": "k6RWPjQpcv6K"
      },
      "execution_count": null,
      "outputs": []
    }
  ]
}