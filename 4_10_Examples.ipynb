{
  "nbformat": 4,
  "nbformat_minor": 0,
  "metadata": {
    "colab": {
      "provenance": [],
      "authorship_tag": "ABX9TyMfv8yXkezCY6NwWJU7R74x",
      "include_colab_link": true
    },
    "kernelspec": {
      "name": "python3",
      "display_name": "Python 3"
    },
    "language_info": {
      "name": "python"
    }
  },
  "cells": [
    {
      "cell_type": "markdown",
      "metadata": {
        "id": "view-in-github",
        "colab_type": "text"
      },
      "source": [
        "<a href=\"https://colab.research.google.com/github/paigefel/BTE320/blob/main/4_10_Examples.ipynb\" target=\"_parent\"><img src=\"https://colab.research.google.com/assets/colab-badge.svg\" alt=\"Open In Colab\"/></a>"
      ]
    },
    {
      "cell_type": "code",
      "execution_count": null,
      "metadata": {
        "id": "FwCTxdojSKPB"
      },
      "outputs": [],
      "source": [
        "def avg(alist):\n",
        "  return sum(alist)/len(dist)\n",
        "\n",
        "a = avg([1,2,3])\n",
        "print(a)\n"
      ]
    },
    {
      "cell_type": "code",
      "source": [
        "def avg(alist):\n",
        "  try:\n",
        "    return sum(alist) / len(alist)\n",
        "  except ZeroDivisionError:\n",
        "    print('The list is empty!')\n",
        "    return\n",
        "\n",
        "\n",
        "  a = avg([1,2,3])\n",
        "  print(a)"
      ],
      "metadata": {
        "id": "fj9wRpeHXnaI"
      },
      "execution_count": null,
      "outputs": []
    },
    {
      "cell_type": "code",
      "source": [
        "\n",
        "\n",
        "try:\n",
        "  idx = int(input('Enter index: '))\n",
        "  print(l[idx])\n",
        "except IndexError:\n",
        "  print('Index value out of bounds!')\n",
        "except ValueError:\n",
        "  print('Indexes must be int')\n",
        "else:\n",
        "  print('Item found!')\n",
        "finally:\n",
        "  print('This will always be displayed!')\n"
      ],
      "metadata": {
        "id": "AOes8BYbaHdE"
      },
      "execution_count": null,
      "outputs": []
    },
    {
      "cell_type": "code",
      "source": [
        "def avg(alist):\n",
        "  try:\n",
        "    return sum(alist) / len(alist)\n",
        "  except ZeroDivisionError:\n",
        "    print('The list is empty!')\n",
        "    return []\n",
        "  except TypeError:\n",
        "    print('The list must be numeric-only!')\n",
        "    return float('nan')\n",
        "\n",
        "  a = avg([])\n",
        "  print(a)"
      ],
      "metadata": {
        "id": "bgvLXedwcCWE"
      },
      "execution_count": 3,
      "outputs": []
    }
  ]
}