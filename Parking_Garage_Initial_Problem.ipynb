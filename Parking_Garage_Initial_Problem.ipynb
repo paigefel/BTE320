{
  "nbformat": 4,
  "nbformat_minor": 0,
  "metadata": {
    "colab": {
      "provenance": [],
      "authorship_tag": "ABX9TyMq25SAVRAIBa8tRd03N3lm",
      "include_colab_link": true
    },
    "kernelspec": {
      "name": "python3",
      "display_name": "Python 3"
    },
    "language_info": {
      "name": "python"
    }
  },
  "cells": [
    {
      "cell_type": "markdown",
      "metadata": {
        "id": "view-in-github",
        "colab_type": "text"
      },
      "source": [
        "<a href=\"https://colab.research.google.com/github/paigefel/BTE320/blob/main/Parking_Garage_Initial_Problem.ipynb\" target=\"_parent\"><img src=\"https://colab.research.google.com/assets/colab-badge.svg\" alt=\"Open In Colab\"/></a>"
      ]
    },
    {
      "cell_type": "code",
      "execution_count": null,
      "metadata": {
        "id": "9mk2mVeiEY6n"
      },
      "outputs": [],
      "source": []
    },
    {
      "cell_type": "code",
      "source": [
        "import random\n",
        "userinput = input(\"do you want to play the game?\")\n",
        "\n",
        "while userinput ==\"yes\":\n",
        "  print(\"play\")\n",
        "  user_choice = input(\"Enter your choice (rock, paper, or scissors): \")\n",
        "  computer_choice = random.choice([\"rock\", \"paper\", \"scissors\"])\n",
        "\n",
        "  print(f\"You chose: {user_choice}\")\n",
        "  print(f\"Computer chose: {computer_choice}\")\n",
        "\n",
        "  if user_choice == computer_choice:\n",
        "      print(\"It's a tie!\")\n",
        "  elif (\n",
        "      (user_choice == \"rock\" and computer_choice == \"scissors\") or\n",
        "      (user_choice == \"paper\" and computer_choice == \"rock\") or\n",
        "      (user_choice == \"scissors\" and computer_choice == \"paper\")\n",
        "  ):\n",
        "      print(\"You win!\")\n",
        "  else:\n",
        "      print(\"Computer wins!\")\n",
        "  userinput = input(\"do you want to play the game?\")\n",
        "\n",
        "\n"
      ],
      "metadata": {
        "colab": {
          "base_uri": "https://localhost:8080/"
        },
        "id": "_sr1gS5maobx",
        "outputId": "ca03f14b-55e5-46d0-a240-fc18533fd97f"
      },
      "execution_count": null,
      "outputs": [
        {
          "name": "stdout",
          "output_type": "stream",
          "text": [
            "do you want to play the game?yes\n",
            "play\n",
            "Enter your choice (rock, paper, or scissors): rock\n",
            "You chose: rock\n",
            "Computer chose: scissors\n",
            "You win!\n",
            "do you want to play the game?no\n"
          ]
        }
      ]
    },
    {
      "cell_type": "markdown",
      "source": [
        "A parking garage charges $5 plus $2.50 for each hour parked.\n",
        "The minimum fee is $10 and the maximum fee is $20.\n",
        "Write a program that generates a table with hours parked and the corresponding feem from 1 to 8 hours"
      ],
      "metadata": {
        "id": "TPtWrQvAE0tA"
      }
    },
    {
      "cell_type": "code",
      "source": [
        "base = 5\n",
        "hourly = 2.5\n",
        "min_fee = 10\n",
        "max_fee = 20\n",
        "\n",
        "print(\"Hours Parked\\tFee\")\n",
        "for hour in range(1,9,1):\n",
        "  fee = base + hourly * hour\n",
        "  if fee < 10:\n",
        "    print(hour, \"10.0\")\n",
        "  elif fee > 20:\n",
        "    print(hour, \"20.0\")\n",
        "  else:\n",
        "    print(hour, fee)\n",
        "\n",
        "\n"
      ],
      "metadata": {
        "colab": {
          "base_uri": "https://localhost:8080/"
        },
        "id": "LpVNlvF5E4sH",
        "outputId": "2b65002d-aae8-4c80-a7a3-028bb34567d9"
      },
      "execution_count": null,
      "outputs": [
        {
          "output_type": "stream",
          "name": "stdout",
          "text": [
            "Hours Parked\tFee\n",
            "1 10.0\n",
            "2 10.0\n",
            "3 12.5\n",
            "4 15.0\n",
            "5 17.5\n",
            "6 20.0\n",
            "7 20.0\n",
            "8 20.0\n"
          ]
        }
      ]
    }
  ]
}